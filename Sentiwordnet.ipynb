{
 "cells": [
  {
   "cell_type": "markdown",
   "metadata": {},
   "source": [
    "# Sneak Peak into Sentiwordnet"
   ]
  },
  {
   "cell_type": "code",
   "execution_count": 1,
   "metadata": {},
   "outputs": [],
   "source": [
    "from nltk.corpus import sentiwordnet as swn"
   ]
  },
  {
   "cell_type": "code",
   "execution_count": 2,
   "metadata": {},
   "outputs": [
    {
     "data": {
      "text/plain": [
       "[SentiSynset('dog.n.01'),\n",
       " SentiSynset('frump.n.01'),\n",
       " SentiSynset('dog.n.03'),\n",
       " SentiSynset('cad.n.01'),\n",
       " SentiSynset('frank.n.02'),\n",
       " SentiSynset('pawl.n.01'),\n",
       " SentiSynset('andiron.n.01'),\n",
       " SentiSynset('chase.v.01')]"
      ]
     },
     "execution_count": 2,
     "metadata": {},
     "output_type": "execute_result"
    }
   ],
   "source": [
    "swn.senti_synsets('dog')"
   ]
  },
  {
   "cell_type": "code",
   "execution_count": 3,
   "metadata": {},
   "outputs": [],
   "source": [
    "# Each Synset has a polarity ~ Average them or use most common, as polarity of word"
   ]
  },
  {
   "cell_type": "code",
   "execution_count": 4,
   "metadata": {},
   "outputs": [],
   "source": [
    "#SentiSynset('cad.n.01') -> dog represented as cad which is noun and have polarty."
   ]
  },
  {
   "cell_type": "code",
   "execution_count": 5,
   "metadata": {},
   "outputs": [
    {
     "data": {
      "text/plain": [
       "SentiSynset('cad.n.01')"
      ]
     },
     "execution_count": 5,
     "metadata": {},
     "output_type": "execute_result"
    }
   ],
   "source": [
    "swn.senti_synsets('dog')[3]"
   ]
  },
  {
   "cell_type": "code",
   "execution_count": 6,
   "metadata": {},
   "outputs": [
    {
     "data": {
      "text/plain": [
       "0.0"
      ]
     },
     "execution_count": 6,
     "metadata": {},
     "output_type": "execute_result"
    }
   ],
   "source": [
    "swn.senti_synsets('dog')[3].pos_score()"
   ]
  },
  {
   "cell_type": "code",
   "execution_count": 7,
   "metadata": {},
   "outputs": [
    {
     "data": {
      "text/plain": [
       "1.0"
      ]
     },
     "execution_count": 7,
     "metadata": {},
     "output_type": "execute_result"
    }
   ],
   "source": [
    "swn.senti_synsets('dog')[3].neg_score()"
   ]
  },
  {
   "cell_type": "markdown",
   "metadata": {},
   "source": [
    "# Implementing A Rule-based Approach using Sentiwordnet"
   ]
  },
  {
   "cell_type": "raw",
   "metadata": {},
   "source": [
    "1.Build a binary classifier using Sentiwordnet\n",
    "2.Run this classifier on our corpus of reviews\n",
    "3.Compare accuracy of VADER- and Sentiwordnet- based classifiers"
   ]
  },
  {
   "cell_type": "code",
   "execution_count": 8,
   "metadata": {},
   "outputs": [],
   "source": [
    "#1. Taking most common meaning for a word to compute polarity"
   ]
  },
  {
   "cell_type": "code",
   "execution_count": 17,
   "metadata": {},
   "outputs": [],
   "source": [
    "def superNaiveSentiment(review):\n",
    "    reviewPolarity =0.0\n",
    "    numExceptions= 0\n",
    "    for word in review.lower().split():\n",
    "        weight  = 0.0\n",
    "        try:\n",
    "            common_meaning = swn.senti_synsets(word)[0]\n",
    "            if common_meaning.pos_score()>common_meaning.neg_score():\n",
    "                weight= weight + common_meaning.pos_score()\n",
    "            elif common_meaning.pos_score()<common_meaning.neg_score():\n",
    "                weight= weight - common_meaning.neg_score()\n",
    "        except :\n",
    "            numExpections  = numExceptions+1\n",
    "    #print \"Word : \"+ word +\"weight : \" + str(weight)\n",
    "    reviewPolarity = reviewPolarity + weight\n",
    "    return reviewPolarity"
   ]
  },
  {
   "cell_type": "code",
   "execution_count": 10,
   "metadata": {},
   "outputs": [],
   "source": [
    "positiveReview = \"C:\\\\Users\\\\praveen ji\\\\Desktop\\\\requiredDoc\\\\PyCode\\\\Dataset\\\\rt-polaritydata\\\\rt-polaritydata\\\\rt-polarity.pos\"\n",
    "with open(positiveReview,'r') as f:\n",
    "    positiveReviews = f.readlines()"
   ]
  },
  {
   "cell_type": "code",
   "execution_count": 11,
   "metadata": {},
   "outputs": [],
   "source": [
    "negativeReview = \"C:\\\\Users\\\\praveen ji\\\\Desktop\\\\requiredDoc\\\\PyCode\\\\Dataset\\\\rt-polaritydata\\\\rt-polaritydata\\\\rt-polarity.neg\"\n",
    "with open(negativeReview,'r') as f:\n",
    "    negativeReviews = f.readlines()"
   ]
  },
  {
   "cell_type": "raw",
   "metadata": {},
   "source": [
    "#Calculate accuracy on Positive Reviews\n",
    "# % of positive reviews that sentwordnet classified as positive(correctly) "
   ]
  },
  {
   "cell_type": "code",
   "execution_count": 12,
   "metadata": {},
   "outputs": [],
   "source": [
    "def getReviewSentiments(sentimentCalclator):\n",
    "    negReviewResult = [sentimentCalclator(oneNegativeReview) for oneNegativeReview in negativeReviews ]\n",
    "    posReviewResult = [sentimentCalclator(onePositiveReview) for onePositiveReview in positiveReviews ]\n",
    "    return {'results-on-positive': posReviewResult , 'results-on-negative': negReviewResult}"
   ]
  },
  {
   "cell_type": "code",
   "execution_count": 13,
   "metadata": {},
   "outputs": [],
   "source": [
    "def runDiagnostics(reviewResult):\n",
    "    positiveReviewsResult = reviewResult['results-on-positive']\n",
    "    negativeReviewsResult = reviewResult['results-on-negative']\n",
    "    \n",
    "    pctTruePositive = float(sum(x>0 for x in positiveReviewsResult))/len(positiveReviewsResult)\n",
    "    pctTrueNegative = float(sum(x>0 for x in negativeReviewsResult))/len(negativeReviewsResult)\n",
    "    \n",
    "    totalAccurate = float(sum(x>0 for x in positiveReviewsResult))+ float(sum(x<0 for x in negativeReviewsResult))\n",
    "    \n",
    "    total = len(positiveReviewsResult) +len(negativeReviewsResult)\n",
    "    \n",
    "    print \"Accuracy on positive reviews = \" + \"%.2f\" % (pctTruePositive*100) + \"%\"\n",
    "    print \"Accuracy on negative reviews = \" + \"%.2f\" % (pctTrueNegative*100) + \"%\"\n",
    "    print \"Accuracy Overall = \" + \"%.2f\" % (totalAccurate*100/ total) + \"%\"\n",
    "    "
   ]
  },
  {
   "cell_type": "code",
   "execution_count": 18,
   "metadata": {},
   "outputs": [
    {
     "name": "stdout",
     "output_type": "stream",
     "text": [
      "Accuracy on positive reviews = 0.32%\n",
      "Accuracy on negative reviews = 0.36%\n",
      "Accuracy Overall = 0.36%\n"
     ]
    }
   ],
   "source": [
    "runDiagnostics(getReviewSentiments(superNaiveSentiment))"
   ]
  },
  {
   "cell_type": "code",
   "execution_count": 19,
   "metadata": {},
   "outputs": [],
   "source": [
    "#2. Taking avg of synsets for a word to compute polarity"
   ]
  },
  {
   "cell_type": "code",
   "execution_count": null,
   "metadata": {},
   "outputs": [],
   "source": [
    "#1. stopword removal\n",
    "#2. all meanings/lemmas are considered associated with word"
   ]
  },
  {
   "cell_type": "code",
   "execution_count": 21,
   "metadata": {},
   "outputs": [],
   "source": [
    "from string import punctuation\n",
    "from nltk.corpus import stopwords\n",
    "stopwords = set(stopwords.words('english')+ list(punctuation))"
   ]
  },
  {
   "cell_type": "code",
   "execution_count": 20,
   "metadata": {},
   "outputs": [],
   "source": [
    "def NaiveSentiment(review):\n",
    "    reviewPolarity =0.0\n",
    "    numExceptions= 0\n",
    "    for word in review.lower().split():\n",
    "        numMeanings =0\n",
    "        if word in stopwords:\n",
    "            continue\n",
    "        weight  = 0.0\n",
    "        try:\n",
    "            common_meaning = swn.senti_synsets(word)[0]\n",
    "            if common_meaning.pos_score()>common_meaning.neg_score():\n",
    "                weight= weight + (common_meaning.pos_score() - common_meaning.neg_score())\n",
    "                numMeanings = numMeanings+1\n",
    "            elif common_meaning.pos_score()<common_meaning.neg_score():\n",
    "                weight= weight - (common_meaning.neg_score()- common_meaning.pos_score())\n",
    "                numMeanings = numMeanings+1\n",
    "        except :\n",
    "            numExpections  = numExceptions+1\n",
    "    #print \"Word : \"+ word +\"weight : \" + str(weight)\n",
    "    if numMeanings>0:\n",
    "        reviewPolarity = reviewPolarity + (weight/numMeanings)\n",
    "    return reviewPolarity"
   ]
  },
  {
   "cell_type": "code",
   "execution_count": 23,
   "metadata": {},
   "outputs": [
    {
     "name": "stdout",
     "output_type": "stream",
     "text": [
      "Accuracy on positive reviews = 0.30%\n",
      "Accuracy on negative reviews = 0.36%\n",
      "Accuracy Overall = 0.33%\n"
     ]
    }
   ],
   "source": [
    "runDiagnostics(getReviewSentiments(NaiveSentiment))"
   ]
  },
  {
   "cell_type": "code",
   "execution_count": null,
   "metadata": {},
   "outputs": [],
   "source": []
  }
 ],
 "metadata": {
  "kernelspec": {
   "display_name": "Python 2",
   "language": "python",
   "name": "python2"
  },
  "language_info": {
   "codemirror_mode": {
    "name": "ipython",
    "version": 2
   },
   "file_extension": ".py",
   "mimetype": "text/x-python",
   "name": "python",
   "nbconvert_exporter": "python",
   "pygments_lexer": "ipython2",
   "version": "2.7.14"
  }
 },
 "nbformat": 4,
 "nbformat_minor": 2
}
